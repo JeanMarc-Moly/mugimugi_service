{
 "cells": [
  {
   "cell_type": "code",
   "execution_count": 1,
   "metadata": {},
   "outputs": [
    {
     "name": "stdout",
     "output_type": "stream",
     "text": [
      "/home/oji/dev/mugimugi/service\n"
     ]
    }
   ],
   "source": [
    "cd .."
   ]
  },
  {
   "cell_type": "code",
   "execution_count": 2,
   "metadata": {},
   "outputs": [],
   "source": [
    "from query import client"
   ]
  },
  {
   "cell_type": "code",
   "execution_count": 3,
   "metadata": {},
   "outputs": [
    {
     "name": "stdout",
     "output_type": "stream",
     "text": [
      "['‐AQUALOVERS‐']\n",
      "['‐Clover‐']\n",
      "['[Oh!myClover]景品カレンダー']\n",
      "['「FF‐LOVERS!!」 真黒アンソロジー']\n",
      "['「SUPER LOVERS SUPER」']\n",
      "['「バーチャルLover!」 温感ポスター']\n",
      "['【4冊セット】【50%割引】Lover+すきなんだからしょうがない+きみとふたり+結び目']\n",
      "['【偽装恋愛】LoveLiarLovers']\n",
      "['【小説】週末LOVERS!']\n",
      "['【数量限定】なかじまゆか(Digital Lover)デザイン - 3周年記念ファンティア[Fantia]限定プリペイドカード1000円分']\n"
     ]
    }
   ],
   "source": [
    "async with client as c:\n",
    "    async for e in c.book.search(\"Lover\", limit=10):\n",
    "        print(list(e.names))"
   ]
  },
  {
   "cell_type": "code",
   "execution_count": 4,
   "metadata": {},
   "outputs": [
    {
     "name": "stdout",
     "output_type": "stream",
     "text": [
      "['yuka', '【needs specifying】 yuka']\n",
      "['ユカ', 'ユカ', '【needs specifying】 Yuka']\n",
      "['ゆか', 'ユカ', '【needs specifying】 Yuka']\n",
      "['床', 'ユカ', '【needs specifying】 Yuka']\n",
      "['ゆかこ', 'ユカコ', '【needs specifying】 Yukako']\n",
      "['ユカリ', 'ユカリ', '【needs specifying】 Yukari']\n",
      "['ゆかり', 'ユカリ', '【needs specifying】 Yukari']\n",
      "['あべ由香理', 'Abe Yukaly']\n",
      "['天音紫', 'アマネユカリ', 'Amane Yukari']\n",
      "['安南友香子', 'Anan Yukako']\n"
     ]
    }
   ],
   "source": [
    "async with client as c:\n",
    "    async for e in c.author.search(\"Yuka\", limit=10):\n",
    "        print(list(e.names))"
   ]
  },
  {
   "cell_type": "code",
   "execution_count": 5,
   "metadata": {},
   "outputs": [
    {
     "name": "stdout",
     "output_type": "stream",
     "text": [
      "Author(_id='A1', version=6, objects_count=53658, _type_validator=<Type.TYPE: <ItemType.AUTHOR: 'author'>>, parent=0, english_name='(unknown)', japanese_name='不詳', katakana_name='', other_names=[], _links=Author.Linker(items=[]))\n",
      "Author(_id='A16954', version=6, objects_count=14186, _type_validator=<Type.TYPE: <ItemType.AUTHOR: 'author'>>, parent=1, english_name='(and more)', japanese_name='他', katakana_name='', other_names=[], _links=Author.Linker(items=[]))\n",
      "Author(_id='A29589', version=2, objects_count=1535, _type_validator=<Type.TYPE: <ItemType.AUTHOR: 'author'>>, parent=0, english_name='Tezuka Osamu', japanese_name='手塚治虫', katakana_name='テヅカオサム', other_names=[], _links=Author.Linker(items=[]))\n",
      "Author(_id='A29859', version=2, objects_count=1252, _type_validator=<Type.TYPE: <ItemType.AUTHOR: 'author'>>, parent=0, english_name='Koike Kazuo', japanese_name='小池一夫', katakana_name='', other_names=[], _links=Author.Linker(items=[]))\n",
      "Author(_id='A29878', version=3, objects_count=1094, _type_validator=<Type.TYPE: <ItemType.AUTHOR: 'author'>>, parent=0, english_name='Saitou Takawo', japanese_name='さいとう・たかを', katakana_name='サイトウタカヲ', other_names=[], _links=Author.Linker(items=[]))\n",
      "Author(_id='A29617', version=2, objects_count=985, _type_validator=<Type.TYPE: <ItemType.AUTHOR: 'author'>>, parent=0, english_name='Yokoyama Mitsuteru', japanese_name='横山光輝', katakana_name='', other_names=[], _links=Author.Linker(items=[]))\n",
      "Author(_id='A29679', version=1, objects_count=839, _type_validator=<Type.TYPE: <ItemType.AUTHOR: 'author'>>, parent=0, english_name='Ishinomori Shoutarou', japanese_name='石ノ森章太郎', katakana_name='', other_names=[], _links=Author.Linker(items=[]))\n",
      "Author(_id='A29649', version=2, objects_count=798, _type_validator=<Type.TYPE: <ItemType.AUTHOR: 'author'>>, parent=0, english_name='Nagai Go', japanese_name='永井豪', katakana_name='', other_names=[], _links=Author.Linker(items=[]))\n",
      "Author(_id='A52774', version=5, objects_count=747, _type_validator=<Type.TYPE: <ItemType.AUTHOR: 'author'>>, parent=1, english_name='【need specified】 various artists', japanese_name='V.A.', katakana_name='', other_names=[], _links=Author.Linker(items=[]))\n",
      "Author(_id='A1765', version=11, objects_count=699, _type_validator=<Type.TYPE: <ItemType.AUTHOR: 'author'>>, parent=0, english_name='LINDA', japanese_name='LINDA', katakana_name='', other_names=[], _links=Author.Linker(items=[]))\n"
     ]
    }
   ],
   "source": [
    "from mugimugi_client_api import SearchItem\n",
    "from mugimugi_client_api.enum import SortOrder\n",
    "async with client as c:\n",
    "    async for e in client.author.search(sort_criterion=SearchItem.SortCriterion.OBJECTS, sort_order=SortOrder.DESCENDING, limit=10):\n",
    "        print(e)"
   ]
  },
  {
   "cell_type": "code",
   "execution_count": 6,
   "metadata": {},
   "outputs": [
    {
     "name": "stdout",
     "output_type": "stream",
     "text": [
      "Character(_id='H1', version=3, objects_count=645, _type_validator=<Type.TYPE: <ItemType.CHARACTER: 'character'>>, sex=0, age='', english_name='(unknown)', japanese_name='不詳', katakana_name='', other_names=[], _links=Character.Linker(items=[]))\n"
     ]
    }
   ],
   "source": [
    "async with client as c:\n",
    "    async for e in client.character.search(\"不詳\"):\n",
    "        print(e)"
   ]
  },
  {
   "cell_type": "code",
   "execution_count": 7,
   "metadata": {},
   "outputs": [
    {
     "name": "stdout",
     "output_type": "stream",
     "text": [
      "Circle(_id='C1', version=8, objects_count=1866, _type_validator=<Type.TYPE: <ItemType.CIRCLE: 'circle'>>, parent=0, english_name='(unknown)', japanese_name='不詳', katakana_name='', other_names=[], _links=Circle.Linker(items=[]))\n"
     ]
    }
   ],
   "source": [
    "async with client as c:\n",
    "    async for e in client.circle.search(\"不詳\"):\n",
    "        print(e)"
   ]
  },
  {
   "cell_type": "code",
   "execution_count": 8,
   "metadata": {},
   "outputs": [
    {
     "name": "stdout",
     "output_type": "stream",
     "text": [
      "Collection(_id='O1', version=2, objects_count=37, _type_validator=<Type.TYPE: <ItemType.COLLECTION: 'collections'>>, english_name='UNKNOWN', japanese_name='不詳', katakana_name='', other_names=[], _=Item.Linker())\n"
     ]
    }
   ],
   "source": [
    "async with client as c:\n",
    "    async for e in client.collection.search(\"不詳\"):\n",
    "        print(e)"
   ]
  },
  {
   "cell_type": "code",
   "execution_count": 9,
   "metadata": {},
   "outputs": [
    {
     "name": "stdout",
     "output_type": "stream",
     "text": [
      "Content(_id='K1', version=1, objects_count=1590646, _type_validator=<Type.TYPE: <ItemType.CONTENT: 'contents'>>, english_name='Unknown', japanese_name='不詳', katakana_name='', other_names=[], _=Item.Linker())\n"
     ]
    }
   ],
   "source": [
    "async with client as c:\n",
    "    async for e in client.content.search(\"不詳\"):\n",
    "        print(e)"
   ]
  },
  {
   "cell_type": "code",
   "execution_count": 10,
   "metadata": {},
   "outputs": [
    {
     "name": "stdout",
     "output_type": "stream",
     "text": [
      "Convention(_id='N1', version=2, objects_count=683522, _type_validator=<Type.TYPE: <ItemType.CONVENTION: 'convention'>>, date_start='', date_end='', english_name='Unknown', japanese_name='不詳', katakana_name='', other_names=[], _links=Convention.Linker(items=[]))\n"
     ]
    }
   ],
   "source": [
    "async with client as c:\n",
    "    async for e in client.convention.search(\"不詳\"):\n",
    "        print(e)"
   ]
  },
  {
   "cell_type": "code",
   "execution_count": 11,
   "metadata": {},
   "outputs": [
    {
     "name": "stdout",
     "output_type": "stream",
     "text": [
      "Convention(_id='N4790', version=1, objects_count=11681, _type_validator=<Type.TYPE: <ItemType.CONVENTION: 'convention'>>, date_start=datetime.date(2019, 12, 28), date_end=datetime.date(2019, 12, 31), english_name='Comic Market 97', japanese_name='コミックマーケット97', katakana_name='', other_names=['C97'], _links=Convention.Linker(items=[]))\n"
     ]
    }
   ],
   "source": [
    "from datetime import date\n",
    "async with client as c:\n",
    "    async for e in client.convention.search(date_=date(2019, 12, 30)):\n",
    "        print(e)"
   ]
  },
  {
   "cell_type": "code",
   "execution_count": 12,
   "metadata": {},
   "outputs": [
    {
     "name": "stdout",
     "output_type": "stream",
     "text": [
      "Genre(_id='G1', version=2, objects_count=175, _type_validator=<Type.TYPE: <ItemType.GENRE: 'genre'>>, english_name='Unknown', japanese_name='不詳', katakana_name='', other_names=[], _=Item.Linker())\n"
     ]
    }
   ],
   "source": [
    "async with client as c:\n",
    "    async for e in client.genre.search(\"不詳\"):\n",
    "        print(e)"
   ]
  },
  {
   "cell_type": "code",
   "execution_count": 13,
   "metadata": {},
   "outputs": [
    {
     "name": "stdout",
     "output_type": "stream",
     "text": [
      "Imprint(_id='I1', version=1, objects_count=15083, _type_validator=<Type.TYPE: <ItemType.IMPRINT: 'imprint'>>, english_name='Unknown', japanese_name='不詳', katakana_name='', other_names=[], _=Item.Linker())\n"
     ]
    }
   ],
   "source": [
    "async with client as c:\n",
    "    async for e in client.imprint.search(\"不詳\"):\n",
    "        print(e)"
   ]
  },
  {
   "cell_type": "code",
   "execution_count": 14,
   "metadata": {},
   "outputs": [
    {
     "name": "stdout",
     "output_type": "stream",
     "text": [
      "Parody(_id='P1', version=4, objects_count=106499, _type_validator=<Type.TYPE: <ItemType.PARODY: 'parody'>>, english_name='(unknown)', japanese_name='不詳', katakana_name='', other_names=[], _links=Parody.Linker(items=[]))\n"
     ]
    }
   ],
   "source": [
    "async with client as c:\n",
    "    async for e in client.parody.search(\"不詳\"):\n",
    "        print(e)"
   ]
  },
  {
   "cell_type": "code",
   "execution_count": 15,
   "metadata": {},
   "outputs": [
    {
     "name": "stdout",
     "output_type": "stream",
     "text": [
      "Publisher(_id='L1', version=1, objects_count=70509, _type_validator=<Type.TYPE: <ItemType.PUBLISHER: 'publisher'>>, english_name='Unknown', japanese_name='不詳', katakana_name='', other_names=[], _=Item.Linker())\n"
     ]
    }
   ],
   "source": [
    "async with client as c:\n",
    "    async for e in client.publisher.search(\"不詳\"):\n",
    "        print(e)"
   ]
  },
  {
   "cell_type": "code",
   "execution_count": 16,
   "metadata": {},
   "outputs": [
    {
     "name": "stdout",
     "output_type": "stream",
     "text": [
      "Book(_id='B797928', version=2, release_date=datetime.date(2015, 4, 19), isbn='', pages_count=192, is_adult=False, is_anthology=False, is_copybook=False, magazine=False, language=<Language.JAPANESE: 3>, info='', english_name='', japanese_name='chindows7の再録集・年齢不詳のマジカルババア', katakana_name='', other_names=[], _links=Book.Linker(items=[Character(_id='H15666', version=5, objects_count=13459, _type_validator=<Type.TYPE: <ItemType.CHARACTER: 'character'>>, sex=1, age='', ratio=0, english_name='Kuroko Tetsuya', japanese_name='黒子テツヤ', katakana_name='クロコテツヤ', other_names=[]), Character(_id='H15668', version=14, objects_count=6115, _type_validator=<Type.TYPE: <ItemType.CHARACTER: 'character'>>, sex=1, age='', ratio=0, english_name='Kagami Taiga', japanese_name='火神大我', katakana_name='カガミタイガ', other_names=[]), Convention(_id='N1', version=2, objects_count=683522, _type_validator=<Type.TYPE: <ItemType.CONVENTION: 'convention'>>, date_start='', date_end='', english_name='Unknown', japanese_name='不詳', katakana_name='', other_names=[], _=0), Publisher(_id='L3', version=2, objects_count=1517905, _type_validator=<Type.TYPE: <ItemType.PUBLISHER: 'publisher'>>, english_name='No Publisher', japanese_name='出版社なし', katakana_name='', other_names=[], _=0), Collection(_id='O2', version=4, objects_count=1736647, _type_validator=<Type.TYPE: <ItemType.COLLECTION: 'collections'>>, english_name='No Collections', japanese_name='シリーズでない', katakana_name='', other_names=[], _=0), Type(_id='T1', version=1, objects_count=1350631, _type_validator=<Type.TYPE: <ItemType.TYPE: 'type'>>, english_name='Doujinshi', japanese_name='同人誌', katakana_name='', other_names=[], _=0), Circle(_id='C64943', version=3, objects_count=16, _type_validator=<Type.TYPE: <ItemType.CIRCLE: 'circle'>>, parent=0, position=2, english_name='chindows7', japanese_name='chindows7', katakana_name='', other_names=[]), Author(_id='A113598', version=2, objects_count=12, _type_validator=<Type.TYPE: <ItemType.AUTHOR: 'author'>>, parent=0, position=2, english_name='', japanese_name='チンドウ', katakana_name='チンドウ', other_names=[]), Parody(_id='P1819', version=93, objects_count=39919, _type_validator=<Type.TYPE: <ItemType.PARODY: 'parody'>>, ratio=0, english_name=\"Kuroko's Basketball\", japanese_name='黒子のバスケ', katakana_name='クロコノバスケ', other_names=[]), Content(_id='K1', version=1, objects_count=1590646, _type_validator=<Type.TYPE: <ItemType.CONTENT: 'contents'>>, ratio=0, english_name='Unknown', japanese_name='不詳', katakana_name='', other_names=[])]))\n",
      "Book(_id='B672713', version=2, release_date='', isbn='', pages_count=6, is_adult=False, is_anthology=False, is_copybook=True, magazine=False, language=<Language.JAPANESE: 3>, info='', english_name='', japanese_name='タイトル不詳', katakana_name='', other_names=[], _links=Book.Linker(items=[Convention(_id='N1', version=2, objects_count=683522, _type_validator=<Type.TYPE: <ItemType.CONVENTION: 'convention'>>, date_start='', date_end='', english_name='Unknown', japanese_name='不詳', katakana_name='', other_names=[], _=0), Publisher(_id='L3', version=2, objects_count=1517905, _type_validator=<Type.TYPE: <ItemType.PUBLISHER: 'publisher'>>, english_name='No Publisher', japanese_name='出版社なし', katakana_name='', other_names=[], _=0), Collection(_id='O2', version=4, objects_count=1736647, _type_validator=<Type.TYPE: <ItemType.COLLECTION: 'collections'>>, english_name='No Collections', japanese_name='シリーズでない', katakana_name='', other_names=[], _=0), Imprint(_id='I2', version=2, objects_count=874957, _type_validator=<Type.TYPE: <ItemType.IMPRINT: 'imprint'>>, english_name='No Imprint', japanese_name='レーベルなし', katakana_name='', other_names=[], _=0), Type(_id='T1', version=1, objects_count=1350631, _type_validator=<Type.TYPE: <ItemType.TYPE: 'type'>>, english_name='Doujinshi', japanese_name='同人誌', katakana_name='', other_names=[], _=0), Content(_id='K13', version=13, objects_count=16298, _type_validator=<Type.TYPE: <ItemType.CONTENT: 'contents'>>, ratio=0, english_name='Furry[0](General)', japanese_name='[0]ケモノ(全般)', katakana_name='ケモノゼンパン', other_names=['kemono']), Parody(_id='P11', version=4, objects_count=374913, _type_validator=<Type.TYPE: <ItemType.PARODY: 'parody'>>, ratio=5, english_name='Original', japanese_name='オリジナル', katakana_name='', other_names=['創作']), Author(_id='A73394', version=20, objects_count=45, _type_validator=<Type.TYPE: <ItemType.AUTHOR: 'author'>>, parent=0, position=2, english_name='horipooh', japanese_name='ほりプー', katakana_name='ホリプー', other_names=['Horipu']), Circle(_id='C42666', version=17, objects_count=11, _type_validator=<Type.TYPE: <ItemType.CIRCLE: 'circle'>>, parent=0, position=2, english_name='', japanese_name='いぬいま', katakana_name='イヌイマ', other_names=[])]))\n",
      "Book(_id='B872088', version=1, release_date=datetime.date(2015, 12, 31), isbn='', pages_count=0, is_adult=False, is_anthology=False, is_copybook=True, magazine=False, language=<Language.JAPANESE: 3>, info='', english_name='', japanese_name='タイトル不詳', katakana_name='', other_names=[], _links=Book.Linker(items=[Convention(_id='N2386', version=1, objects_count=16270, _type_validator=<Type.TYPE: <ItemType.CONVENTION: 'convention'>>, date_start=datetime.date(2015, 12, 29), date_end=datetime.date(2015, 12, 31), english_name='Comic Market 89', japanese_name='コミックマーケット 89', katakana_name='コミックマーケット89', other_names=['コミックマーケット89'], _=0), Publisher(_id='L3', version=2, objects_count=1517905, _type_validator=<Type.TYPE: <ItemType.PUBLISHER: 'publisher'>>, english_name='No Publisher', japanese_name='出版社なし', katakana_name='', other_names=[], _=0), Collection(_id='O2', version=4, objects_count=1736647, _type_validator=<Type.TYPE: <ItemType.COLLECTION: 'collections'>>, english_name='No Collections', japanese_name='シリーズでない', katakana_name='', other_names=[], _=0), Imprint(_id='I2', version=2, objects_count=874957, _type_validator=<Type.TYPE: <ItemType.IMPRINT: 'imprint'>>, english_name='No Imprint', japanese_name='レーベルなし', katakana_name='', other_names=[], _=0), Type(_id='T1', version=1, objects_count=1350631, _type_validator=<Type.TYPE: <ItemType.TYPE: 'type'>>, english_name='Doujinshi', japanese_name='同人誌', katakana_name='', other_names=[], _=0), Content(_id='K13', version=13, objects_count=16298, _type_validator=<Type.TYPE: <ItemType.CONTENT: 'contents'>>, ratio=0, english_name='Furry[0](General)', japanese_name='[0]ケモノ(全般)', katakana_name='ケモノゼンパン', other_names=['kemono']), Parody(_id='P11', version=4, objects_count=374913, _type_validator=<Type.TYPE: <ItemType.PARODY: 'parody'>>, ratio=0, english_name='Original', japanese_name='オリジナル', katakana_name='', other_names=['創作']), Author(_id='A1', version=6, objects_count=53658, _type_validator=<Type.TYPE: <ItemType.AUTHOR: 'author'>>, parent=0, position=2, english_name='(unknown)', japanese_name='不詳', katakana_name='', other_names=[]), Circle(_id='C49529', version=25, objects_count=20, _type_validator=<Type.TYPE: <ItemType.CIRCLE: 'circle'>>, parent=0, position=2, english_name='', japanese_name='オーブタ子猫ね', katakana_name='', other_names=[])]))\n",
      "Book(_id='B1465947', version=1, release_date=datetime.date(2015, 8, 23), isbn='', pages_count=62, is_adult=False, is_anthology=False, is_copybook=False, magazine=False, language=<Language.JAPANESE: 3>, info='', english_name='', japanese_name='年齢不詳上司 (レオナルド受)', katakana_name='', other_names=[], _links=Book.Linker(items=[Convention(_id='N1', version=2, objects_count=683522, _type_validator=<Type.TYPE: <ItemType.CONVENTION: 'convention'>>, date_start='', date_end='', english_name='Unknown', japanese_name='不詳', katakana_name='', other_names=[], _=0), Publisher(_id='L3', version=2, objects_count=1517905, _type_validator=<Type.TYPE: <ItemType.PUBLISHER: 'publisher'>>, english_name='No Publisher', japanese_name='出版社なし', katakana_name='', other_names=[], _=0), Collection(_id='O2', version=4, objects_count=1736647, _type_validator=<Type.TYPE: <ItemType.COLLECTION: 'collections'>>, english_name='No Collections', japanese_name='シリーズでない', katakana_name='', other_names=[], _=0), Type(_id='T21', version=2, objects_count=120859, _type_validator=<Type.TYPE: <ItemType.TYPE: 'type'>>, english_name='Doujin Novel', japanese_name='同人ノベル', katakana_name='', other_names=[], _=0), Circle(_id='C135297', version=1, objects_count=3, _type_validator=<Type.TYPE: <ItemType.CIRCLE: 'circle'>>, parent=0, position=2, english_name='', japanese_name='漢祭KST', katakana_name='', other_names=[]), Parody(_id='P3804', version=30, objects_count=7309, _type_validator=<Type.TYPE: <ItemType.PARODY: 'parody'>>, ratio=0, english_name='Blood Blockade Battlefront', japanese_name='血界戦線', katakana_name='ケッカイセンセン', other_names=[]), Genre(_id='G226', version=1, objects_count=704622, _type_validator=<Type.TYPE: <ItemType.GENRE: 'genre'>>, ratio=0, english_name='For women', japanese_name='女性向け', katakana_name='', other_names=[]), Author(_id='A1', version=6, objects_count=53658, _type_validator=<Type.TYPE: <ItemType.AUTHOR: 'author'>>, parent=0, position=0, english_name='(unknown)', japanese_name='不詳', katakana_name='', other_names=[]), Imprint(_id='I2', version=2, objects_count=874957, _type_validator=<Type.TYPE: <ItemType.IMPRINT: 'imprint'>>, english_name='No Imprint', japanese_name='レーベルなし', katakana_name='', other_names=[], _=0), Content(_id='K1', version=1, objects_count=1590646, _type_validator=<Type.TYPE: <ItemType.CONTENT: 'contents'>>, ratio=0, english_name='Unknown', japanese_name='不詳', katakana_name='', other_names=[])]))\n",
      "Book(_id='B20770', version=5, release_date='', isbn='', pages_count=196, is_adult=True, is_anthology=False, is_copybook=False, magazine=False, language=<Language.JAPANESE: 3>, info=\"This bootleg publication reprints six doujinshi. Due to the often sloppy writing and lack of full re-printing, I was not able to name all authors in the book and, for the fourth book reprinted, I could not read title, circle's name or author's name.\\r\\n\\r\\n(1) BECAUSE by Nankyoku Group (å\\x8d—æ¥µã‚°ãƒ«ãƒ¼ãƒ—)\\r\\n(2) Omedetou (ã‚ªãƒ¡ãƒ‡ãƒˆã‚¦)ã€€by Group Pinkodachi\\r\\n(3) CHILDREN by Shunran (æ˜¥è˜\\xadâ€\\x90ã\\x81—ã‚…ã‚“ã‚‰ã‚“â€\\x90)\\r\\n(4) unknown title by unknown circle and unknown author\\r\\n(5) Dark Red by Gekijou Pierrot (æ¿€æƒ…ãƒ”ã‚¨ãƒ\\xad)\\r\\n(6) The Agony and the Ecstasy by 1999\", english_name='Because/ Omedetou/ Children/ unknown/ Dark Red/ The Agony and the Ecstasy', japanese_name='BECAUSE/ オメデトウ/ CHILDREN/ 不詳/ Dark Red/ The Agony and the Ecstasy', katakana_name='', other_names=[], _links=Book.Linker(items=[Genre(_id='G242', version=1, objects_count=257, _type_validator=<Type.TYPE: <ItemType.GENRE: 'genre'>>, ratio=1, english_name='Novel', japanese_name='小説', katakana_name='', other_names=[]), Parody(_id='P5906', version=3, objects_count=4655, _type_validator=<Type.TYPE: <ItemType.PARODY: 'parody'>>, ratio=5, english_name='【Genre】 Anthology', japanese_name='アンソロジー', katakana_name='アンソロジー', other_names=[]), Content(_id='K66', version=4, objects_count=40790, _type_validator=<Type.TYPE: <ItemType.CONTENT: 'contents'>>, ratio=0, english_name='Group Sex', japanese_name='グループセックス', katakana_name='', other_names=['乱交']), Content(_id='K875', version=2, objects_count=153, _type_validator=<Type.TYPE: <ItemType.CONTENT: 'contents'>>, ratio=0, english_name='Threesome ffm', japanese_name='', katakana_name='', other_names=[]), Character(_id='H312', version=5, objects_count=115, _type_validator=<Type.TYPE: <ItemType.CHARACTER: 'character'>>, sex=1, age='', ratio=0, english_name='Suzuhara Toji', japanese_name='鈴原トウジ', katakana_name='スズハラトウジ', other_names=['Suzuhara Tōji']), Character(_id='H314', version=4, objects_count=226, _type_validator=<Type.TYPE: <ItemType.CHARACTER: 'character'>>, sex=1, age='', ratio=0, english_name='Ikari Gendo', japanese_name='碇ゲンドウ', katakana_name='イカリゲンドウ', other_names=['Ikari Gendō']), Circle(_id='C14407', version=19, objects_count=26, _type_validator=<Type.TYPE: <ItemType.CIRCLE: 'circle'>>, parent=0, position=2, english_name='Shunran', japanese_name='春蘭', katakana_name='シュンラン', other_names=[]), Convention(_id='N2', version=3, objects_count=214428, _type_validator=<Type.TYPE: <ItemType.CONVENTION: 'convention'>>, date_start='', date_end='', english_name='No Convention', japanese_name='No Convention', katakana_name='', other_names=['無'], _=0), Publisher(_id='L3', version=2, objects_count=1517905, _type_validator=<Type.TYPE: <ItemType.PUBLISHER: 'publisher'>>, english_name='No Publisher', japanese_name='出版社なし', katakana_name='', other_names=[], _=0), Collection(_id='O2', version=4, objects_count=1736647, _type_validator=<Type.TYPE: <ItemType.COLLECTION: 'collections'>>, english_name='No Collections', japanese_name='シリーズでない', katakana_name='', other_names=[], _=0), Type(_id='T19', version=1, objects_count=5, _type_validator=<Type.TYPE: <ItemType.TYPE: 'type'>>, english_name='Bootleg', japanese_name='海賊版', katakana_name='', other_names=[], _=0), Circle(_id='C3000', version=1, objects_count=3, _type_validator=<Type.TYPE: <ItemType.CIRCLE: 'circle'>>, parent=0, position=2, english_name='Nankyoku Group', japanese_name='南極グループ', katakana_name='', other_names=[]), Circle(_id='C3001', version=1, objects_count=2, _type_validator=<Type.TYPE: <ItemType.CIRCLE: 'circle'>>, parent=0, position=2, english_name='Group Pinkodachi', japanese_name='GROUP PINKODACHI', katakana_name='', other_names=[]), Circle(_id='C3003', version=2, objects_count=6, _type_validator=<Type.TYPE: <ItemType.CIRCLE: 'circle'>>, parent=0, position=2, english_name='Gekijou Pierrot', japanese_name='激情ピエロ', katakana_name='', other_names=[]), Circle(_id='C3004', version=2, objects_count=2, _type_validator=<Type.TYPE: <ItemType.CIRCLE: 'circle'>>, parent=0, position=2, english_name='1999', japanese_name='1999', katakana_name='1999', other_names=[]), Circle(_id='C1', version=8, objects_count=1866, _type_validator=<Type.TYPE: <ItemType.CIRCLE: 'circle'>>, parent=0, position=2, english_name='(unknown)', japanese_name='不詳', katakana_name='', other_names=[]), Author(_id='A6876', version=2, objects_count=3, _type_validator=<Type.TYPE: <ItemType.AUTHOR: 'author'>>, parent=0, position=2, english_name='Nankyouku Tarou', japanese_name='南極太郎', katakana_name='', other_names=[]), Author(_id='A6877', version=1, objects_count=3, _type_validator=<Type.TYPE: <ItemType.AUTHOR: 'author'>>, parent=0, position=2, english_name='Park Side Ono', japanese_name='パークサイド小野', katakana_name='', other_names=[]), Author(_id='A1147', version=7, objects_count=219, _type_validator=<Type.TYPE: <ItemType.AUTHOR: 'author'>>, parent=0, position=2, english_name='Yamanobe Kitta', japanese_name='やまのべきった', katakana_name='ヤマノベキッタ', other_names=[]), Author(_id='A1', version=6, objects_count=53658, _type_validator=<Type.TYPE: <ItemType.AUTHOR: 'author'>>, parent=0, position=2, english_name='(unknown)', japanese_name='不詳', katakana_name='', other_names=[]), Author(_id='A6878', version=1, objects_count=1, _type_validator=<Type.TYPE: <ItemType.AUTHOR: 'author'>>, parent=0, position=2, english_name='Yopashi Ayasa', japanese_name='よぱしあやさ', katakana_name='ヨパシアヤサ', other_names=[]), Author(_id='A6879', version=24, objects_count=75, _type_validator=<Type.TYPE: <ItemType.AUTHOR: 'author'>>, parent=1581, position=2, english_name='Eimu Yuu', japanese_name='影夢優', katakana_name='', other_names=[]), Author(_id='A6880', version=1, objects_count=67, _type_validator=<Type.TYPE: <ItemType.AUTHOR: 'author'>>, parent=0, position=2, english_name='Yuuki Alice', japanese_name='夕姫ありす', katakana_name='', other_names=[]), Author(_id='A6881', version=2, objects_count=1, _type_validator=<Type.TYPE: <ItemType.AUTHOR: 'author'>>, parent=0, position=2, english_name='Morino Makoto', japanese_name='森野真琴', katakana_name='', other_names=[]), Author(_id='A6882', version=1, objects_count=1, _type_validator=<Type.TYPE: <ItemType.AUTHOR: 'author'>>, parent=0, position=2, english_name='AKIRA.N', japanese_name='Akira.N', katakana_name='', other_names=[]), Author(_id='A6883', version=2, objects_count=6, _type_validator=<Type.TYPE: <ItemType.AUTHOR: 'author'>>, parent=0, position=2, english_name='Yamino Yomiko', japanese_name='闇乃黄泉子', katakana_name='ヤミノヨミコ', other_names=[]), Author(_id='A6884', version=2, objects_count=1, _type_validator=<Type.TYPE: <ItemType.AUTHOR: 'author'>>, parent=0, position=2, english_name='Oscar W Tachibanaana', japanese_name='オスカー・W・タチバナーナ', katakana_name='', other_names=[]), Author(_id='A6885', version=1, objects_count=2, _type_validator=<Type.TYPE: <ItemType.AUTHOR: 'author'>>, parent=0, position=2, english_name='Takano Kata', japanese_name='TAKANO KATA', katakana_name='', other_names=[]), Parody(_id='P27', version=29, objects_count=5618, _type_validator=<Type.TYPE: <ItemType.PARODY: 'parody'>>, ratio=4, english_name='Shinseiki Evangelion', japanese_name='新世紀エヴァンゲリオン', katakana_name='シンセイキエヴァンゲリオン', other_names=['Neon Genesis Evangelion', 'NGE']), Parody(_id='P14', version=19, objects_count=2127, _type_validator=<Type.TYPE: <ItemType.PARODY: 'parody'>>, ratio=1, english_name='Cardcaptor Sakura', japanese_name='カードキャプターさくら', katakana_name='', other_names=['CCS', 'CCさくら', 'Cardcaptors', 'Card Captor Sakura']), Parody(_id='P29', version=58, objects_count=1546, _type_validator=<Type.TYPE: <ItemType.PARODY: 'parody'>>, ratio=1, english_name='Bishoujo Senshi Sailor Moon', japanese_name='美少女戦士セーラームーン', katakana_name='ビショウジョセンシセーラームーン', other_names=['Sailor Moon', 'セーラームーン']), Content(_id='K49', version=3, objects_count=18227, _type_validator=<Type.TYPE: <ItemType.CONTENT: 'contents'>>, ratio=2, english_name='Masturbation', japanese_name='自慰・性器愛撫', katakana_name='', other_names=['オナニー', 'マスターベーション', '強制マスターベーション']), Content(_id='K15', version=3, objects_count=75578, _type_validator=<Type.TYPE: <ItemType.CONTENT: 'contents'>>, ratio=2, english_name='Loli', japanese_name='ロリ', katakana_name='', other_names=['lolicon', 'lolikon', 'rorikon', 'ロリコン']), Content(_id='K8', version=1, objects_count=16129, _type_validator=<Type.TYPE: <ItemType.CONTENT: 'contents'>>, ratio=2, english_name='Futanari', japanese_name='ふたなり', katakana_name='', other_names=[]), Content(_id='K48', version=2, objects_count=7393, _type_validator=<Type.TYPE: <ItemType.CONTENT: 'contents'>>, ratio=2, english_name='Domination (Femdom)', japanese_name='女性支配・女王様・ドミナ', katakana_name='', other_names=[]), Content(_id='K158', version=2, objects_count=37654, _type_validator=<Type.TYPE: <ItemType.CONTENT: 'contents'>>, ratio=2, english_name='Oral Sex', japanese_name='オーラル・セックス', katakana_name='', other_names=['口腔プレイ']), Content(_id='K201', version=2, objects_count=194, _type_validator=<Type.TYPE: <ItemType.CONTENT: 'contents'>>, ratio=1, english_name='Plugsuit', japanese_name='プラグスーツ', katakana_name='', other_names=[]), Content(_id='K251', version=1, objects_count=2929, _type_validator=<Type.TYPE: <ItemType.CONTENT: 'contents'>>, ratio=0, english_name='Strap-on', japanese_name='ペニスバンド', katakana_name='', other_names=[]), Content(_id='K9', version=2, objects_count=61240, _type_validator=<Type.TYPE: <ItemType.CONTENT: 'contents'>>, ratio=0, english_name='Breasts (Large)', japanese_name='巨乳', katakana_name='キョニュウ', other_names=[]), Content(_id='K187', version=4, objects_count=22774, _type_validator=<Type.TYPE: <ItemType.CONTENT: 'contents'>>, ratio=0, english_name='Lesbian, Yuri', japanese_name='女性同性愛, レズ, 百合', katakana_name='', other_names=[\"Girl's Love\"]), Content(_id='K601', version=3, objects_count=20436, _type_validator=<Type.TYPE: <ItemType.CONTENT: 'contents'>>, ratio=0, english_name='School Girl', japanese_name='女子生徒', katakana_name='', other_names=[]), Character(_id='H284', version=18, objects_count=2429, _type_validator=<Type.TYPE: <ItemType.CHARACTER: 'character'>>, sex=1, age='', ratio=0, english_name='Ikari Shinji', japanese_name='碇シンジ', katakana_name='イカリシンジ', other_names=[]), Character(_id='H310', version=16, objects_count=1141, _type_validator=<Type.TYPE: <ItemType.CHARACTER: 'character'>>, sex=2, age='14', ratio=0, english_name='Ayanami Rei', japanese_name='綾波レイ', katakana_name='アヤナミレイ', other_names=[]), Character(_id='H161', version=16, objects_count=1593, _type_validator=<Type.TYPE: <ItemType.CHARACTER: 'character'>>, sex=2, age='14', ratio=0, english_name='Sohryu Asuka Langley', japanese_name='惣流・アスカ・ラングレー', katakana_name='ソウリュウアスカラングレー', other_names=['式波・アスカ・ラングレー', 'Shikinami Asuka Langley']), Character(_id='H315', version=4, objects_count=278, _type_validator=<Type.TYPE: <ItemType.CHARACTER: 'character'>>, sex=2, age='', ratio=0, english_name='Akagi Ritsuko', japanese_name='赤木リツコ', katakana_name='アカギリツコ', other_names=[])]))\n",
      "Book(_id='B1679364', version=1, release_date=datetime.date(2018, 2, 11), isbn='', pages_count=16, is_adult=True, is_anthology=False, is_copybook=False, magazine=False, language=<Language.JAPANESE: 3>, info='', english_name='Nenrei Fushou no Kinoe Kishi Danchou', japanese_name='年齢不詳近衛騎士団長', katakana_name='', other_names=[], _links=Book.Linker(items=[Convention(_id='N1', version=2, objects_count=683522, _type_validator=<Type.TYPE: <ItemType.CONVENTION: 'convention'>>, date_start='', date_end='', english_name='Unknown', japanese_name='不詳', katakana_name='', other_names=[], _=0), Collection(_id='O2', version=4, objects_count=1736647, _type_validator=<Type.TYPE: <ItemType.COLLECTION: 'collections'>>, english_name='No Collections', japanese_name='シリーズでない', katakana_name='', other_names=[], _=0), Type(_id='T1', version=1, objects_count=1350631, _type_validator=<Type.TYPE: <ItemType.TYPE: 'type'>>, english_name='Doujinshi', japanese_name='同人誌', katakana_name='', other_names=[], _=0), Circle(_id='C107648', version=2, objects_count=13, _type_validator=<Type.TYPE: <ItemType.CIRCLE: 'circle'>>, parent=0, position=2, english_name='MHP', japanese_name='MHP', katakana_name='', other_names=[]), Author(_id='A17074', version=5, objects_count=7, _type_validator=<Type.TYPE: <ItemType.AUTHOR: 'author'>>, parent=0, position=2, english_name='HIKARI', japanese_name='HIKARI', katakana_name='', other_names=[]), Parody(_id='P5081', version=239, objects_count=640, _type_validator=<Type.TYPE: <ItemType.PARODY: 'parody'>>, ratio=0, english_name='Millennium War Aigis', japanese_name='千年戦争アイギス', katakana_name='センネンセンソウアイギス', other_names=[]), Genre(_id='G227', version=1, objects_count=347748, _type_validator=<Type.TYPE: <ItemType.GENRE: 'genre'>>, ratio=0, english_name='For men', japanese_name='男性向け', katakana_name='', other_names=[]), Imprint(_id='I2', version=2, objects_count=874957, _type_validator=<Type.TYPE: <ItemType.IMPRINT: 'imprint'>>, english_name='No Imprint', japanese_name='レーベルなし', katakana_name='', other_names=[], _=0), Publisher(_id='L3', version=2, objects_count=1517905, _type_validator=<Type.TYPE: <ItemType.PUBLISHER: 'publisher'>>, english_name='No Publisher', japanese_name='出版社なし', katakana_name='', other_names=[], _=0), Content(_id='K1', version=1, objects_count=1590646, _type_validator=<Type.TYPE: <ItemType.CONTENT: 'contents'>>, ratio=0, english_name='Unknown', japanese_name='不詳', katakana_name='', other_names=[])]))\n"
     ]
    }
   ],
   "source": [
    "async with client as c:\n",
    "    async for e in client.book.search(\"不詳\", limit=10):\n",
    "        print(e)"
   ]
  }
 ],
 "metadata": {
  "interpreter": {
   "hash": "b3bf0b3af5e6294ea0f2decc081b0d5b2827feda91fa1dfcf5f9a29b60bdade1"
  },
  "kernelspec": {
   "display_name": "Python 3.9.5 64-bit ('.venv': pipenv)",
   "name": "python3"
  },
  "language_info": {
   "codemirror_mode": {
    "name": "ipython",
    "version": 3
   },
   "file_extension": ".py",
   "mimetype": "text/x-python",
   "name": "python",
   "nbconvert_exporter": "python",
   "pygments_lexer": "ipython3",
   "version": "3.9.5"
  },
  "orig_nbformat": 2
 },
 "nbformat": 4,
 "nbformat_minor": 2
}