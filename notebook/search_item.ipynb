{
 "metadata": {
  "language_info": {
   "codemirror_mode": {
    "name": "ipython",
    "version": 3
   },
   "file_extension": ".py",
   "mimetype": "text/x-python",
   "name": "python",
   "nbconvert_exporter": "python",
   "pygments_lexer": "ipython3",
   "version": "3.9.5"
  },
  "orig_nbformat": 2,
  "kernelspec": {
   "name": "python3",
   "display_name": "Python 3.9.5 64-bit ('.venv': pipenv)"
  },
  "interpreter": {
   "hash": "b3bf0b3af5e6294ea0f2decc081b0d5b2827feda91fa1dfcf5f9a29b60bdade1"
  }
 },
 "nbformat": 4,
 "nbformat_minor": 2,
 "cells": [
  {
   "cell_type": "code",
   "execution_count": 1,
   "metadata": {},
   "outputs": [
    {
     "output_type": "stream",
     "name": "stdout",
     "text": [
      "/home/oji/dev/mugimugi/service\n"
     ]
    }
   ],
   "source": [
    "cd .."
   ]
  },
  {
   "cell_type": "code",
   "execution_count": 2,
   "metadata": {},
   "outputs": [],
   "source": [
    "from query import client"
   ]
  },
  {
   "cell_type": "code",
   "execution_count": 3,
   "metadata": {},
   "outputs": [
    {
     "output_type": "stream",
     "name": "stdout",
     "text": [
      "['‐AQUALOVERS‐']\n['‐Clover‐']\n['[Oh!myClover]景品カレンダー']\n['「FF‐LOVERS!!」 真黒アンソロジー']\n['「SUPER LOVERS SUPER」']\n['「バーチャルLover!」 温感ポスター']\n['【4冊セット】【50%割引】Lover+すきなんだからしょうがない+きみとふたり+結び目']\n['【偽装恋愛】LoveLiarLovers']\n['【小説】週末LOVERS!']\n['【数量限定】なかじまゆか(Digital Lover)デザイン - 3周年記念ファンティア[Fantia]限定プリペイドカード1000円分']\n"
     ]
    }
   ],
   "source": [
    "async with client as c:\n",
    "    async for e in c.book.search(\"Lover\", limit=10):\n",
    "        print(list(e.names))"
   ]
  },
  {
   "cell_type": "code",
   "execution_count": 4,
   "metadata": {},
   "outputs": [
    {
     "output_type": "stream",
     "name": "stdout",
     "text": [
      "['yuka', '【needs specifying】 yuka']\n['ユカ', 'ユカ', '【needs specifying】 Yuka']\n['ゆか', 'ユカ', '【needs specifying】 Yuka']\n['床', 'ユカ', '【needs specifying】 Yuka']\n['ゆかこ', 'ユカコ', '【needs specifying】 Yukako']\n['ユカリ', 'ユカリ', '【needs specifying】 Yukari']\n['ゆかり', 'ユカリ', '【needs specifying】 Yukari']\n['あべ由香理', 'Abe Yukaly']\n['天音紫', 'アマネユカリ', 'Amane Yukari']\n['安南友香子', 'Anan Yukako']\n"
     ]
    }
   ],
   "source": [
    "async with client as c:\n",
    "    async for e in c.author.search(\"Yuka\", limit=10):\n",
    "        print(list(e.names))"
   ]
  },
  {
   "cell_type": "code",
   "execution_count": 5,
   "metadata": {},
   "outputs": [
    {
     "output_type": "stream",
     "name": "stdout",
     "text": [
      "Author(mugimugi_id='A1', id=1, prefix=<ElementPrefix.AUTHOR: 'A'>, english_name='(unknown)', japanese_name='不詳', romaji_name='', other_names=[], _type=<Type.TYPE: <ItemType.AUTHOR: 'author'>>, type=<ItemType.AUTHOR: 'author'>, version=6, objects_count=53660, parent=0, _links=Author.Linker(items=[]))\nAuthor(mugimugi_id='A16954', id=16954, prefix=<ElementPrefix.AUTHOR: 'A'>, english_name='(and more)', japanese_name='他', romaji_name='', other_names=[], _type=<Type.TYPE: <ItemType.AUTHOR: 'author'>>, type=<ItemType.AUTHOR: 'author'>, version=6, objects_count=14186, parent=1, _links=Author.Linker(items=[]))\nAuthor(mugimugi_id='A29589', id=29589, prefix=<ElementPrefix.AUTHOR: 'A'>, english_name='Tezuka Osamu', japanese_name='手塚治虫', romaji_name='テヅカオサム', other_names=[], _type=<Type.TYPE: <ItemType.AUTHOR: 'author'>>, type=<ItemType.AUTHOR: 'author'>, version=2, objects_count=1535, parent=0, _links=Author.Linker(items=[]))\nAuthor(mugimugi_id='A29859', id=29859, prefix=<ElementPrefix.AUTHOR: 'A'>, english_name='Koike Kazuo', japanese_name='小池一夫', romaji_name='', other_names=[], _type=<Type.TYPE: <ItemType.AUTHOR: 'author'>>, type=<ItemType.AUTHOR: 'author'>, version=2, objects_count=1252, parent=0, _links=Author.Linker(items=[]))\nAuthor(mugimugi_id='A29878', id=29878, prefix=<ElementPrefix.AUTHOR: 'A'>, english_name='Saitou Takawo', japanese_name='さいとう・たかを', romaji_name='サイトウタカヲ', other_names=[], _type=<Type.TYPE: <ItemType.AUTHOR: 'author'>>, type=<ItemType.AUTHOR: 'author'>, version=3, objects_count=1094, parent=0, _links=Author.Linker(items=[]))\nAuthor(mugimugi_id='A29617', id=29617, prefix=<ElementPrefix.AUTHOR: 'A'>, english_name='Yokoyama Mitsuteru', japanese_name='横山光輝', romaji_name='', other_names=[], _type=<Type.TYPE: <ItemType.AUTHOR: 'author'>>, type=<ItemType.AUTHOR: 'author'>, version=2, objects_count=985, parent=0, _links=Author.Linker(items=[]))\nAuthor(mugimugi_id='A29679', id=29679, prefix=<ElementPrefix.AUTHOR: 'A'>, english_name='Ishinomori Shoutarou', japanese_name='石ノ森章太郎', romaji_name='', other_names=[], _type=<Type.TYPE: <ItemType.AUTHOR: 'author'>>, type=<ItemType.AUTHOR: 'author'>, version=1, objects_count=839, parent=0, _links=Author.Linker(items=[]))\nAuthor(mugimugi_id='A29649', id=29649, prefix=<ElementPrefix.AUTHOR: 'A'>, english_name='Nagai Go', japanese_name='永井豪', romaji_name='', other_names=[], _type=<Type.TYPE: <ItemType.AUTHOR: 'author'>>, type=<ItemType.AUTHOR: 'author'>, version=2, objects_count=798, parent=0, _links=Author.Linker(items=[]))\nAuthor(mugimugi_id='A52774', id=52774, prefix=<ElementPrefix.AUTHOR: 'A'>, english_name='【need specified】 various artists', japanese_name='V.A.', romaji_name='', other_names=[], _type=<Type.TYPE: <ItemType.AUTHOR: 'author'>>, type=<ItemType.AUTHOR: 'author'>, version=5, objects_count=747, parent=1, _links=Author.Linker(items=[]))\nAuthor(mugimugi_id='A1765', id=1765, prefix=<ElementPrefix.AUTHOR: 'A'>, english_name='LINDA', japanese_name='LINDA', romaji_name='', other_names=[], _type=<Type.TYPE: <ItemType.AUTHOR: 'author'>>, type=<ItemType.AUTHOR: 'author'>, version=11, objects_count=699, parent=0, _links=Author.Linker(items=[]))\n"
     ]
    }
   ],
   "source": [
    "from mugimugi_client_api import SearchItem\n",
    "from mugimugi_client_api.enum import SortOrder\n",
    "async with client as c:\n",
    "    async for e in client.author.search(sort_criterion=SearchItem.SortCriterion.OBJECTS, sort_order=SortOrder.DESCENDING, limit=10):\n",
    "        print(e)"
   ]
  },
  {
   "cell_type": "code",
   "execution_count": 6,
   "metadata": {},
   "outputs": [
    {
     "output_type": "stream",
     "name": "stdout",
     "text": [
      "Character(mugimugi_id='H1', id=1, prefix=<ElementPrefix.CHARACTER: 'H'>, english_name='(unknown)', japanese_name='不詳', romaji_name='', other_names=[], _type=<Type.TYPE: <ItemType.CHARACTER: 'character'>>, type=<ItemType.CHARACTER: 'character'>, version=3, objects_count=643, sex=0, age='', _links=Character.Linker(items=[]))\n"
     ]
    }
   ],
   "source": [
    "async with client as c:\n",
    "    async for e in client.character.search(\"不詳\"):\n",
    "        print(e)"
   ]
  },
  {
   "cell_type": "code",
   "execution_count": 7,
   "metadata": {},
   "outputs": [
    {
     "output_type": "stream",
     "name": "stdout",
     "text": [
      "Circle(mugimugi_id='C1', id=1, prefix=<ElementPrefix.CIRCLE: 'C'>, english_name='(unknown)', japanese_name='不詳', romaji_name='', other_names=[], _type=<Type.TYPE: <ItemType.CIRCLE: 'circle'>>, type=<ItemType.CIRCLE: 'circle'>, version=8, objects_count=1865, parent=0, _links=Circle.Linker(items=[]))\n"
     ]
    }
   ],
   "source": [
    "async with client as c:\n",
    "    async for e in client.circle.search(\"不詳\"):\n",
    "        print(e)"
   ]
  },
  {
   "cell_type": "code",
   "execution_count": 8,
   "metadata": {},
   "outputs": [
    {
     "output_type": "stream",
     "name": "stdout",
     "text": [
      "Collection(mugimugi_id='O1', id=1, prefix=<ElementPrefix.COLLECTION: 'O'>, english_name='UNKNOWN', japanese_name='不詳', romaji_name='', other_names=[], _type=<Type.TYPE: <ItemType.COLLECTION: 'collections'>>, type=<ItemType.COLLECTION: 'collections'>, version=2, objects_count=37, _=Item.Linker())\n"
     ]
    }
   ],
   "source": [
    "async with client as c:\n",
    "    async for e in client.collection.search(\"不詳\"):\n",
    "        print(e)"
   ]
  },
  {
   "cell_type": "code",
   "execution_count": 9,
   "metadata": {},
   "outputs": [
    {
     "output_type": "stream",
     "name": "stdout",
     "text": [
      "Content(mugimugi_id='K1', id=1, prefix=<ElementPrefix.CONTENT: 'K'>, english_name='Unknown', japanese_name='不詳', romaji_name='', other_names=[], _type=<Type.TYPE: <ItemType.CONTENT: 'contents'>>, type=<ItemType.CONTENT: 'contents'>, version=1, objects_count=1590668, _=Item.Linker())\n"
     ]
    }
   ],
   "source": [
    "async with client as c:\n",
    "    async for e in client.content.search(\"不詳\"):\n",
    "        print(e)"
   ]
  },
  {
   "cell_type": "code",
   "execution_count": 10,
   "metadata": {},
   "outputs": [
    {
     "output_type": "stream",
     "name": "stdout",
     "text": [
      "Convention(mugimugi_id='N1', id=1, prefix=<ElementPrefix.CONVENTION: 'N'>, english_name='Unknown', japanese_name='不詳', romaji_name='', other_names=[], _type=<Type.TYPE: <ItemType.CONVENTION: 'convention'>>, type=<ItemType.CONVENTION: 'convention'>, version=2, objects_count=684020, date_start='', date_end='', _links=Convention.Linker(items=[]))\n"
     ]
    }
   ],
   "source": [
    "async with client as c:\n",
    "    async for e in client.convention.search(\"不詳\"):\n",
    "        print(e)"
   ]
  },
  {
   "cell_type": "code",
   "execution_count": 11,
   "metadata": {},
   "outputs": [
    {
     "output_type": "stream",
     "name": "stdout",
     "text": [
      "Convention(mugimugi_id='N3999', id=3999, prefix=<ElementPrefix.CONVENTION: 'N'>, english_name='3999', japanese_name='template', romaji_name='', other_names=[], _type=<Type.TYPE: <ItemType.CONVENTION: 'convention'>>, type=<ItemType.CONVENTION: 'convention'>, version=3, objects_count=0, date_start='', date_end='', _links=Convention.Linker(items=[]))\nConvention(mugimugi_id='N5258', id=5258, prefix=<ElementPrefix.CONVENTION: 'N'>, english_name='Kyoukai kara template', japanese_name='template', romaji_name='', other_names=[], _type=<Type.TYPE: <ItemType.CONVENTION: 'convention'>>, type=<ItemType.CONVENTION: 'convention'>, version=2, objects_count=1, date_start='', date_end='', _links=Convention.Linker(items=[SubCharacter(mugimugi_id='H1435', id=1435, prefix=<ElementPrefix.CHARACTER: 'H'>, english_name='Usami Renko', japanese_name='宇佐見蓮子', romaji_name='ウサミレンコ', other_names=['Hifuu'], _type=<Type.TYPE: <ItemType.CHARACTER: 'character'>>, type=<ItemType.CHARACTER: 'character'>, version=16, objects_count=840, sex=2, age=''), SubCharacter(mugimugi_id='H1434', id=1434, prefix=<ElementPrefix.CHARACTER: 'H'>, english_name='Maeriberry Hearn', japanese_name='マエリベリー・ハーン', romaji_name='マエリベリーハーン', other_names=['Maribel Hearn', 'hifuu'], _type=<Type.TYPE: <ItemType.CHARACTER: 'character'>>, type=<ItemType.CHARACTER: 'character'>, version=6, objects_count=782, sex=2, age='')]))\nConvention(mugimugi_id='N5172', id=5172, prefix=<ElementPrefix.CONVENTION: 'N'>, english_name='Kyuudaime no Koucha-kai 06', japanese_name='求代目の紅茶会6', romaji_name='', other_names=[], _type=<Type.TYPE: <ItemType.CONVENTION: 'convention'>>, type=<ItemType.CONVENTION: 'convention'>, version=3, objects_count=1, date_start='', date_end='', _links=Convention.Linker(items=[SubCharacter(mugimugi_id='H1430', id=1430, prefix=<ElementPrefix.CHARACTER: 'H'>, english_name='Hieda no Akyuu', japanese_name='稗田阿求', romaji_name='ヒエダノアキュウ', other_names=[], _type=<Type.TYPE: <ItemType.CHARACTER: 'character'>>, type=<ItemType.CHARACTER: 'character'>, version=21, objects_count=378, sex=2, age='')]))\nConvention(mugimugi_id='N2', id=2, prefix=<ElementPrefix.CONVENTION: 'N'>, english_name='No Convention', japanese_name='No Convention', romaji_name='', other_names=['無'], _type=<Type.TYPE: <ItemType.CONVENTION: 'convention'>>, type=<ItemType.CONVENTION: 'convention'>, version=3, objects_count=214421, date_start='', date_end='', _links=Convention.Linker(items=[]))\nConvention(mugimugi_id='N3897', id=3897, prefix=<ElementPrefix.CONVENTION: 'N'>, english_name='Shabu-shabu Maid Ali 3', japanese_name='じゃぶじゃぶマイドアリ3', romaji_name='', other_names=[], _type=<Type.TYPE: <ItemType.CONVENTION: 'convention'>>, type=<ItemType.CONVENTION: 'convention'>, version=2, objects_count=9, date_start='', date_end='', _links=Convention.Linker(items=[SubParody(mugimugi_id='P5255', id=5255, prefix=<ElementPrefix.PARODY: 'P'>, english_name='FLOWER KNIGHT GIRL', japanese_name='FLOWER KNIGHT GIRL', romaji_name='フラワーナイトガール', other_names=['フラワーナイトガール'], _type=<Type.TYPE: <ItemType.PARODY: 'parody'>>, type=<ItemType.PARODY: 'parody'>, version=185, objects_count=496)]))\nConvention(mugimugi_id='N1', id=1, prefix=<ElementPrefix.CONVENTION: 'N'>, english_name='Unknown', japanese_name='不詳', romaji_name='', other_names=[], _type=<Type.TYPE: <ItemType.CONVENTION: 'convention'>>, type=<ItemType.CONVENTION: 'convention'>, version=2, objects_count=684020, date_start='', date_end='', _links=Convention.Linker(items=[]))\n"
     ]
    }
   ],
   "source": [
    "from datetime import date\n",
    "async with client as c:\n",
    "    async for e in client.convention.search(date_=date(2019, 12, 30)):\n",
    "        print(e)"
   ]
  },
  {
   "cell_type": "code",
   "execution_count": 12,
   "metadata": {},
   "outputs": [
    {
     "output_type": "stream",
     "name": "stdout",
     "text": [
      "Genre(mugimugi_id='G1', id=1, prefix=<ElementPrefix.GENRE: 'G'>, english_name='Unknown', japanese_name='不詳', romaji_name='', other_names=[], _type=<Type.TYPE: <ItemType.GENRE: 'genre'>>, type=<ItemType.GENRE: 'genre'>, version=2, objects_count=174, _=Item.Linker())\n"
     ]
    }
   ],
   "source": [
    "async with client as c:\n",
    "    async for e in client.genre.search(\"不詳\"):\n",
    "        print(e)"
   ]
  },
  {
   "cell_type": "code",
   "execution_count": 13,
   "metadata": {},
   "outputs": [
    {
     "output_type": "stream",
     "name": "stdout",
     "text": [
      "Imprint(mugimugi_id='I1', id=1, prefix=<ElementPrefix.IMPRINT: 'I'>, english_name='Unknown', japanese_name='不詳', romaji_name='', other_names=[], _type=<Type.TYPE: <ItemType.IMPRINT: 'imprint'>>, type=<ItemType.IMPRINT: 'imprint'>, version=1, objects_count=15083, _=Item.Linker())\n"
     ]
    }
   ],
   "source": [
    "async with client as c:\n",
    "    async for e in client.imprint.search(\"不詳\"):\n",
    "        print(e)"
   ]
  },
  {
   "cell_type": "code",
   "execution_count": 14,
   "metadata": {},
   "outputs": [
    {
     "output_type": "stream",
     "name": "stdout",
     "text": [
      "Parody(mugimugi_id='P1', id=1, prefix=<ElementPrefix.PARODY: 'P'>, english_name='(unknown)', japanese_name='不詳', romaji_name='', other_names=[], _type=<Type.TYPE: <ItemType.PARODY: 'parody'>>, type=<ItemType.PARODY: 'parody'>, version=4, objects_count=106516, _links=Parody.Linker(items=[]))\n"
     ]
    }
   ],
   "source": [
    "async with client as c:\n",
    "    async for e in client.parody.search(\"不詳\"):\n",
    "        print(e)"
   ]
  },
  {
   "cell_type": "code",
   "execution_count": 15,
   "metadata": {},
   "outputs": [
    {
     "output_type": "stream",
     "name": "stdout",
     "text": [
      "Publisher(mugimugi_id='L1', id=1, prefix=<ElementPrefix.PUBLISHER: 'L'>, english_name='Unknown', japanese_name='不詳', romaji_name='', other_names=[], _type=<Type.TYPE: <ItemType.PUBLISHER: 'publisher'>>, type=<ItemType.PUBLISHER: 'publisher'>, version=1, objects_count=70513, _=Item.Linker())\n"
     ]
    }
   ],
   "source": [
    "async with client as c:\n",
    "    async for e in client.publisher.search(\"不詳\"):\n",
    "        print(e)"
   ]
  },
  {
   "cell_type": "code",
   "execution_count": 16,
   "metadata": {},
   "outputs": [
    {
     "output_type": "stream",
     "name": "stdout",
     "text": [
      "Book(mugimugi_id='B797928', id=797928, prefix=<ElementPrefix.BOOK: 'B'>, english_name='', japanese_name='chindows7の再録集・年齢不詳のマジカルババア', romaji_name='', other_names=[], version=2, match_ratio=None, release_date=datetime.date(2015, 4, 19), isbn='', pages_count=192, is_adult=False, is_anthology=False, is_copybook=False, magazine=0, language=3, info='', _links=Book.Linker(items=[Character(mugimugi_id='H15666', id=15666, prefix=<ElementPrefix.CHARACTER: 'H'>, english_name='Kuroko Tetsuya', japanese_name='黒子テツヤ', romaji_name='クロコテツヤ', other_names=[], _type=<Type.TYPE: <ItemType.CHARACTER: 'character'>>, type=<ItemType.CHARACTER: 'character'>, version=5, objects_count=13459, sex=1, age='', ratio=0), Character(mugimugi_id='H15668', id=15668, prefix=<ElementPrefix.CHARACTER: 'H'>, english_name='Kagami Taiga', japanese_name='火神大我', romaji_name='カガミタイガ', other_names=[], _type=<Type.TYPE: <ItemType.CHARACTER: 'character'>>, type=<ItemType.CHARACTER: 'character'>, version=14, objects_count=6115, sex=1, age='', ratio=0), Convention(mugimugi_id='N1', id=1, prefix=<ElementPrefix.CONVENTION: 'N'>, english_name='Unknown', japanese_name='不詳', romaji_name='', other_names=[], _type=<Type.TYPE: <ItemType.CONVENTION: 'convention'>>, type=<ItemType.CONVENTION: 'convention'>, version=2, objects_count=684020, date_start='', date_end='', _=0), Publisher(mugimugi_id='L3', id=3, prefix=<ElementPrefix.PUBLISHER: 'L'>, english_name='No Publisher', japanese_name='出版社なし', romaji_name='', other_names=[], _type=<Type.TYPE: <ItemType.PUBLISHER: 'publisher'>>, type=<ItemType.PUBLISHER: 'publisher'>, version=2, objects_count=1517901, _=0), Collection(mugimugi_id='O2', id=2, prefix=<ElementPrefix.COLLECTION: 'O'>, english_name='No Collections', japanese_name='シリーズでない', romaji_name='', other_names=[], _type=<Type.TYPE: <ItemType.COLLECTION: 'collections'>>, type=<ItemType.COLLECTION: 'collections'>, version=4, objects_count=1736639, _=0), Type(mugimugi_id='T1', id=1, prefix=<ElementPrefix.TYPE: 'T'>, english_name='Doujinshi', japanese_name='同人誌', romaji_name='', other_names=[], _type=<Type.TYPE: <ItemType.TYPE: 'type'>>, type=<ItemType.TYPE: 'type'>, version=1, objects_count=1350632, _=0), Circle(mugimugi_id='C64943', id=64943, prefix=<ElementPrefix.CIRCLE: 'C'>, english_name='chindows7', japanese_name='chindows7', romaji_name='', other_names=[], _type=<Type.TYPE: <ItemType.CIRCLE: 'circle'>>, type=<ItemType.CIRCLE: 'circle'>, version=3, objects_count=16, parent=0, position=2), Author(mugimugi_id='A113598', id=113598, prefix=<ElementPrefix.AUTHOR: 'A'>, english_name='', japanese_name='チンドウ', romaji_name='チンドウ', other_names=[], _type=<Type.TYPE: <ItemType.AUTHOR: 'author'>>, type=<ItemType.AUTHOR: 'author'>, version=2, objects_count=12, parent=0, position=2), Parody(mugimugi_id='P1819', id=1819, prefix=<ElementPrefix.PARODY: 'P'>, english_name=\"Kuroko's Basketball\", japanese_name='黒子のバスケ', romaji_name='クロコノバスケ', other_names=[], _type=<Type.TYPE: <ItemType.PARODY: 'parody'>>, type=<ItemType.PARODY: 'parody'>, version=93, objects_count=39919, ratio=0), Content(mugimugi_id='K1', id=1, prefix=<ElementPrefix.CONTENT: 'K'>, english_name='Unknown', japanese_name='不詳', romaji_name='', other_names=[], _type=<Type.TYPE: <ItemType.CONTENT: 'contents'>>, type=<ItemType.CONTENT: 'contents'>, version=1, objects_count=1590668, ratio=0)]))\nBook(mugimugi_id='B672713', id=672713, prefix=<ElementPrefix.BOOK: 'B'>, english_name='', japanese_name='タイトル不詳', romaji_name='', other_names=[], version=2, match_ratio=None, release_date='', isbn='', pages_count=6, is_adult=False, is_anthology=False, is_copybook=True, magazine=0, language=3, info='', _links=Book.Linker(items=[Convention(mugimugi_id='N1', id=1, prefix=<ElementPrefix.CONVENTION: 'N'>, english_name='Unknown', japanese_name='不詳', romaji_name='', other_names=[], _type=<Type.TYPE: <ItemType.CONVENTION: 'convention'>>, type=<ItemType.CONVENTION: 'convention'>, version=2, objects_count=684020, date_start='', date_end='', _=0), Publisher(mugimugi_id='L3', id=3, prefix=<ElementPrefix.PUBLISHER: 'L'>, english_name='No Publisher', japanese_name='出版社なし', romaji_name='', other_names=[], _type=<Type.TYPE: <ItemType.PUBLISHER: 'publisher'>>, type=<ItemType.PUBLISHER: 'publisher'>, version=2, objects_count=1517901, _=0), Collection(mugimugi_id='O2', id=2, prefix=<ElementPrefix.COLLECTION: 'O'>, english_name='No Collections', japanese_name='シリーズでない', romaji_name='', other_names=[], _type=<Type.TYPE: <ItemType.COLLECTION: 'collections'>>, type=<ItemType.COLLECTION: 'collections'>, version=4, objects_count=1736639, _=0), Imprint(mugimugi_id='I2', id=2, prefix=<ElementPrefix.IMPRINT: 'I'>, english_name='No Imprint', japanese_name='レーベルなし', romaji_name='', other_names=[], _type=<Type.TYPE: <ItemType.IMPRINT: 'imprint'>>, type=<ItemType.IMPRINT: 'imprint'>, version=2, objects_count=874877, _=0), Type(mugimugi_id='T1', id=1, prefix=<ElementPrefix.TYPE: 'T'>, english_name='Doujinshi', japanese_name='同人誌', romaji_name='', other_names=[], _type=<Type.TYPE: <ItemType.TYPE: 'type'>>, type=<ItemType.TYPE: 'type'>, version=1, objects_count=1350632, _=0), Content(mugimugi_id='K13', id=13, prefix=<ElementPrefix.CONTENT: 'K'>, english_name='Furry[0](General)', japanese_name='[0]ケモノ(全般)', romaji_name='ケモノゼンパン', other_names=['kemono'], _type=<Type.TYPE: <ItemType.CONTENT: 'contents'>>, type=<ItemType.CONTENT: 'contents'>, version=13, objects_count=16293, ratio=0), Parody(mugimugi_id='P11', id=11, prefix=<ElementPrefix.PARODY: 'P'>, english_name='Original', japanese_name='オリジナル', romaji_name='', other_names=['創作'], _type=<Type.TYPE: <ItemType.PARODY: 'parody'>>, type=<ItemType.PARODY: 'parody'>, version=4, objects_count=374896, ratio=5), Author(mugimugi_id='A73394', id=73394, prefix=<ElementPrefix.AUTHOR: 'A'>, english_name='horipooh', japanese_name='ほりプー', romaji_name='ホリプー', other_names=['Horipu'], _type=<Type.TYPE: <ItemType.AUTHOR: 'author'>>, type=<ItemType.AUTHOR: 'author'>, version=20, objects_count=45, parent=0, position=2), Circle(mugimugi_id='C42666', id=42666, prefix=<ElementPrefix.CIRCLE: 'C'>, english_name='', japanese_name='いぬいま', romaji_name='イヌイマ', other_names=[], _type=<Type.TYPE: <ItemType.CIRCLE: 'circle'>>, type=<ItemType.CIRCLE: 'circle'>, version=17, objects_count=11, parent=0, position=2)]))\nBook(mugimugi_id='B872088', id=872088, prefix=<ElementPrefix.BOOK: 'B'>, english_name='', japanese_name='タイトル不詳', romaji_name='', other_names=[], version=1, match_ratio=None, release_date=datetime.date(2015, 12, 31), isbn='', pages_count=0, is_adult=False, is_anthology=False, is_copybook=True, magazine=0, language=3, info='', _links=Book.Linker(items=[Convention(mugimugi_id='N2386', id=2386, prefix=<ElementPrefix.CONVENTION: 'N'>, english_name='Comic Market 89', japanese_name='コミックマーケット 89', romaji_name='コミックマーケット89', other_names=['コミックマーケット89'], _type=<Type.TYPE: <ItemType.CONVENTION: 'convention'>>, type=<ItemType.CONVENTION: 'convention'>, version=1, objects_count=16269, date_start=datetime.date(2015, 12, 29), date_end=datetime.date(2015, 12, 31), _=0), Publisher(mugimugi_id='L3', id=3, prefix=<ElementPrefix.PUBLISHER: 'L'>, english_name='No Publisher', japanese_name='出版社なし', romaji_name='', other_names=[], _type=<Type.TYPE: <ItemType.PUBLISHER: 'publisher'>>, type=<ItemType.PUBLISHER: 'publisher'>, version=2, objects_count=1517901, _=0), Collection(mugimugi_id='O2', id=2, prefix=<ElementPrefix.COLLECTION: 'O'>, english_name='No Collections', japanese_name='シリーズでない', romaji_name='', other_names=[], _type=<Type.TYPE: <ItemType.COLLECTION: 'collections'>>, type=<ItemType.COLLECTION: 'collections'>, version=4, objects_count=1736639, _=0), Imprint(mugimugi_id='I2', id=2, prefix=<ElementPrefix.IMPRINT: 'I'>, english_name='No Imprint', japanese_name='レーベルなし', romaji_name='', other_names=[], _type=<Type.TYPE: <ItemType.IMPRINT: 'imprint'>>, type=<ItemType.IMPRINT: 'imprint'>, version=2, objects_count=874877, _=0), Type(mugimugi_id='T1', id=1, prefix=<ElementPrefix.TYPE: 'T'>, english_name='Doujinshi', japanese_name='同人誌', romaji_name='', other_names=[], _type=<Type.TYPE: <ItemType.TYPE: 'type'>>, type=<ItemType.TYPE: 'type'>, version=1, objects_count=1350632, _=0), Content(mugimugi_id='K13', id=13, prefix=<ElementPrefix.CONTENT: 'K'>, english_name='Furry[0](General)', japanese_name='[0]ケモノ(全般)', romaji_name='ケモノゼンパン', other_names=['kemono'], _type=<Type.TYPE: <ItemType.CONTENT: 'contents'>>, type=<ItemType.CONTENT: 'contents'>, version=13, objects_count=16293, ratio=0), Parody(mugimugi_id='P11', id=11, prefix=<ElementPrefix.PARODY: 'P'>, english_name='Original', japanese_name='オリジナル', romaji_name='', other_names=['創作'], _type=<Type.TYPE: <ItemType.PARODY: 'parody'>>, type=<ItemType.PARODY: 'parody'>, version=4, objects_count=374896, ratio=0), Author(mugimugi_id='A1', id=1, prefix=<ElementPrefix.AUTHOR: 'A'>, english_name='(unknown)', japanese_name='不詳', romaji_name='', other_names=[], _type=<Type.TYPE: <ItemType.AUTHOR: 'author'>>, type=<ItemType.AUTHOR: 'author'>, version=6, objects_count=53660, parent=0, position=2), Circle(mugimugi_id='C49529', id=49529, prefix=<ElementPrefix.CIRCLE: 'C'>, english_name='', japanese_name='オーブタ子猫ね', romaji_name='', other_names=[], _type=<Type.TYPE: <ItemType.CIRCLE: 'circle'>>, type=<ItemType.CIRCLE: 'circle'>, version=25, objects_count=20, parent=0, position=2)]))\nBook(mugimugi_id='B1465947', id=1465947, prefix=<ElementPrefix.BOOK: 'B'>, english_name='', japanese_name='年齢不詳上司 (レオナルド受)', romaji_name='', other_names=[], version=1, match_ratio=None, release_date=datetime.date(2015, 8, 23), isbn='', pages_count=62, is_adult=False, is_anthology=False, is_copybook=False, magazine=0, language=3, info='', _links=Book.Linker(items=[Convention(mugimugi_id='N1', id=1, prefix=<ElementPrefix.CONVENTION: 'N'>, english_name='Unknown', japanese_name='不詳', romaji_name='', other_names=[], _type=<Type.TYPE: <ItemType.CONVENTION: 'convention'>>, type=<ItemType.CONVENTION: 'convention'>, version=2, objects_count=684020, date_start='', date_end='', _=0), Publisher(mugimugi_id='L3', id=3, prefix=<ElementPrefix.PUBLISHER: 'L'>, english_name='No Publisher', japanese_name='出版社なし', romaji_name='', other_names=[], _type=<Type.TYPE: <ItemType.PUBLISHER: 'publisher'>>, type=<ItemType.PUBLISHER: 'publisher'>, version=2, objects_count=1517901, _=0), Collection(mugimugi_id='O2', id=2, prefix=<ElementPrefix.COLLECTION: 'O'>, english_name='No Collections', japanese_name='シリーズでない', romaji_name='', other_names=[], _type=<Type.TYPE: <ItemType.COLLECTION: 'collections'>>, type=<ItemType.COLLECTION: 'collections'>, version=4, objects_count=1736639, _=0), Type(mugimugi_id='T21', id=21, prefix=<ElementPrefix.TYPE: 'T'>, english_name='Doujin Novel', japanese_name='同人ノベル', romaji_name='', other_names=[], _type=<Type.TYPE: <ItemType.TYPE: 'type'>>, type=<ItemType.TYPE: 'type'>, version=2, objects_count=120857, _=0), Circle(mugimugi_id='C135297', id=135297, prefix=<ElementPrefix.CIRCLE: 'C'>, english_name='', japanese_name='漢祭KST', romaji_name='', other_names=[], _type=<Type.TYPE: <ItemType.CIRCLE: 'circle'>>, type=<ItemType.CIRCLE: 'circle'>, version=1, objects_count=3, parent=0, position=2), Parody(mugimugi_id='P3804', id=3804, prefix=<ElementPrefix.PARODY: 'P'>, english_name='Blood Blockade Battlefront', japanese_name='血界戦線', romaji_name='ケッカイセンセン', other_names=[], _type=<Type.TYPE: <ItemType.PARODY: 'parody'>>, type=<ItemType.PARODY: 'parody'>, version=30, objects_count=7309, ratio=0), Genre(mugimugi_id='G226', id=226, prefix=<ElementPrefix.GENRE: 'G'>, english_name='For women', japanese_name='女性向け', romaji_name='', other_names=[], _type=<Type.TYPE: <ItemType.GENRE: 'genre'>>, type=<ItemType.GENRE: 'genre'>, version=1, objects_count=704623, ratio=0), Author(mugimugi_id='A1', id=1, prefix=<ElementPrefix.AUTHOR: 'A'>, english_name='(unknown)', japanese_name='不詳', romaji_name='', other_names=[], _type=<Type.TYPE: <ItemType.AUTHOR: 'author'>>, type=<ItemType.AUTHOR: 'author'>, version=6, objects_count=53660, parent=0, position=0), Imprint(mugimugi_id='I2', id=2, prefix=<ElementPrefix.IMPRINT: 'I'>, english_name='No Imprint', japanese_name='レーベルなし', romaji_name='', other_names=[], _type=<Type.TYPE: <ItemType.IMPRINT: 'imprint'>>, type=<ItemType.IMPRINT: 'imprint'>, version=2, objects_count=874877, _=0), Content(mugimugi_id='K1', id=1, prefix=<ElementPrefix.CONTENT: 'K'>, english_name='Unknown', japanese_name='不詳', romaji_name='', other_names=[], _type=<Type.TYPE: <ItemType.CONTENT: 'contents'>>, type=<ItemType.CONTENT: 'contents'>, version=1, objects_count=1590668, ratio=0)]))\nBook(mugimugi_id='B20770', id=20770, prefix=<ElementPrefix.BOOK: 'B'>, english_name='Because/ Omedetou/ Children/ unknown/ Dark Red/ The Agony and the Ecstasy', japanese_name='BECAUSE/ オメデトウ/ CHILDREN/ 不詳/ Dark Red/ The Agony and the Ecstasy', romaji_name='', other_names=[], version=5, match_ratio=None, release_date='', isbn='', pages_count=196, is_adult=True, is_anthology=False, is_copybook=False, magazine=0, language=3, info=\"This bootleg publication reprints six doujinshi. Due to the often sloppy writing and lack of full re-printing, I was not able to name all authors in the book and, for the fourth book reprinted, I could not read title, circle's name or author's name.\\r\\n\\r\\n(1) BECAUSE by Nankyoku Group (å\\x8d—æ¥µã‚°ãƒ«ãƒ¼ãƒ—)\\r\\n(2) Omedetou (ã‚ªãƒ¡ãƒ‡ãƒˆã‚¦)ã€€by Group Pinkodachi\\r\\n(3) CHILDREN by Shunran (æ˜¥è˜\\xadâ€\\x90ã\\x81—ã‚…ã‚“ã‚‰ã‚“â€\\x90)\\r\\n(4) unknown title by unknown circle and unknown author\\r\\n(5) Dark Red by Gekijou Pierrot (æ¿€æƒ…ãƒ”ã‚¨ãƒ\\xad)\\r\\n(6) The Agony and the Ecstasy by 1999\", _links=Book.Linker(items=[Genre(mugimugi_id='G242', id=242, prefix=<ElementPrefix.GENRE: 'G'>, english_name='Novel', japanese_name='小説', romaji_name='', other_names=[], _type=<Type.TYPE: <ItemType.GENRE: 'genre'>>, type=<ItemType.GENRE: 'genre'>, version=1, objects_count=257, ratio=1), Parody(mugimugi_id='P5906', id=5906, prefix=<ElementPrefix.PARODY: 'P'>, english_name='【Genre】 Anthology', japanese_name='アンソロジー', romaji_name='アンソロジー', other_names=[], _type=<Type.TYPE: <ItemType.PARODY: 'parody'>>, type=<ItemType.PARODY: 'parody'>, version=3, objects_count=4658, ratio=5), Content(mugimugi_id='K66', id=66, prefix=<ElementPrefix.CONTENT: 'K'>, english_name='Group Sex', japanese_name='グループセックス', romaji_name='', other_names=['乱交'], _type=<Type.TYPE: <ItemType.CONTENT: 'contents'>>, type=<ItemType.CONTENT: 'contents'>, version=4, objects_count=40742, ratio=0), Content(mugimugi_id='K875', id=875, prefix=<ElementPrefix.CONTENT: 'K'>, english_name='Threesome ffm', japanese_name='', romaji_name='', other_names=[], _type=<Type.TYPE: <ItemType.CONTENT: 'contents'>>, type=<ItemType.CONTENT: 'contents'>, version=2, objects_count=153, ratio=0), Character(mugimugi_id='H312', id=312, prefix=<ElementPrefix.CHARACTER: 'H'>, english_name='Suzuhara Toji', japanese_name='鈴原トウジ', romaji_name='スズハラトウジ', other_names=['Suzuhara Tōji'], _type=<Type.TYPE: <ItemType.CHARACTER: 'character'>>, type=<ItemType.CHARACTER: 'character'>, version=5, objects_count=115, sex=1, age='', ratio=0), Character(mugimugi_id='H314', id=314, prefix=<ElementPrefix.CHARACTER: 'H'>, english_name='Ikari Gendo', japanese_name='碇ゲンドウ', romaji_name='イカリゲンドウ', other_names=['Ikari Gendō'], _type=<Type.TYPE: <ItemType.CHARACTER: 'character'>>, type=<ItemType.CHARACTER: 'character'>, version=4, objects_count=226, sex=1, age='', ratio=0), Circle(mugimugi_id='C14407', id=14407, prefix=<ElementPrefix.CIRCLE: 'C'>, english_name='Shunran', japanese_name='春蘭', romaji_name='シュンラン', other_names=[], _type=<Type.TYPE: <ItemType.CIRCLE: 'circle'>>, type=<ItemType.CIRCLE: 'circle'>, version=19, objects_count=26, parent=0, position=2), Convention(mugimugi_id='N2', id=2, prefix=<ElementPrefix.CONVENTION: 'N'>, english_name='No Convention', japanese_name='No Convention', romaji_name='', other_names=['無'], _type=<Type.TYPE: <ItemType.CONVENTION: 'convention'>>, type=<ItemType.CONVENTION: 'convention'>, version=3, objects_count=214421, date_start='', date_end='', _=0), Publisher(mugimugi_id='L3', id=3, prefix=<ElementPrefix.PUBLISHER: 'L'>, english_name='No Publisher', japanese_name='出版社なし', romaji_name='', other_names=[], _type=<Type.TYPE: <ItemType.PUBLISHER: 'publisher'>>, type=<ItemType.PUBLISHER: 'publisher'>, version=2, objects_count=1517901, _=0), Collection(mugimugi_id='O2', id=2, prefix=<ElementPrefix.COLLECTION: 'O'>, english_name='No Collections', japanese_name='シリーズでない', romaji_name='', other_names=[], _type=<Type.TYPE: <ItemType.COLLECTION: 'collections'>>, type=<ItemType.COLLECTION: 'collections'>, version=4, objects_count=1736639, _=0), Type(mugimugi_id='T19', id=19, prefix=<ElementPrefix.TYPE: 'T'>, english_name='Bootleg', japanese_name='海賊版', romaji_name='', other_names=[], _type=<Type.TYPE: <ItemType.TYPE: 'type'>>, type=<ItemType.TYPE: 'type'>, version=1, objects_count=5, _=0), Circle(mugimugi_id='C3000', id=3000, prefix=<ElementPrefix.CIRCLE: 'C'>, english_name='Nankyoku Group', japanese_name='南極グループ', romaji_name='', other_names=[], _type=<Type.TYPE: <ItemType.CIRCLE: 'circle'>>, type=<ItemType.CIRCLE: 'circle'>, version=1, objects_count=3, parent=0, position=2), Circle(mugimugi_id='C3001', id=3001, prefix=<ElementPrefix.CIRCLE: 'C'>, english_name='Group Pinkodachi', japanese_name='GROUP PINKODACHI', romaji_name='', other_names=[], _type=<Type.TYPE: <ItemType.CIRCLE: 'circle'>>, type=<ItemType.CIRCLE: 'circle'>, version=1, objects_count=2, parent=0, position=2), Circle(mugimugi_id='C3003', id=3003, prefix=<ElementPrefix.CIRCLE: 'C'>, english_name='Gekijou Pierrot', japanese_name='激情ピエロ', romaji_name='', other_names=[], _type=<Type.TYPE: <ItemType.CIRCLE: 'circle'>>, type=<ItemType.CIRCLE: 'circle'>, version=2, objects_count=6, parent=0, position=2), Circle(mugimugi_id='C3004', id=3004, prefix=<ElementPrefix.CIRCLE: 'C'>, english_name='1999', japanese_name='1999', romaji_name='1999', other_names=[], _type=<Type.TYPE: <ItemType.CIRCLE: 'circle'>>, type=<ItemType.CIRCLE: 'circle'>, version=2, objects_count=2, parent=0, position=2), Circle(mugimugi_id='C1', id=1, prefix=<ElementPrefix.CIRCLE: 'C'>, english_name='(unknown)', japanese_name='不詳', romaji_name='', other_names=[], _type=<Type.TYPE: <ItemType.CIRCLE: 'circle'>>, type=<ItemType.CIRCLE: 'circle'>, version=8, objects_count=1865, parent=0, position=2), Author(mugimugi_id='A6876', id=6876, prefix=<ElementPrefix.AUTHOR: 'A'>, english_name='Nankyouku Tarou', japanese_name='南極太郎', romaji_name='', other_names=[], _type=<Type.TYPE: <ItemType.AUTHOR: 'author'>>, type=<ItemType.AUTHOR: 'author'>, version=2, objects_count=3, parent=0, position=2), Author(mugimugi_id='A6877', id=6877, prefix=<ElementPrefix.AUTHOR: 'A'>, english_name='Park Side Ono', japanese_name='パークサイド小野', romaji_name='', other_names=[], _type=<Type.TYPE: <ItemType.AUTHOR: 'author'>>, type=<ItemType.AUTHOR: 'author'>, version=1, objects_count=3, parent=0, position=2), Author(mugimugi_id='A1147', id=1147, prefix=<ElementPrefix.AUTHOR: 'A'>, english_name='Yamanobe Kitta', japanese_name='やまのべきった', romaji_name='ヤマノベキッタ', other_names=[], _type=<Type.TYPE: <ItemType.AUTHOR: 'author'>>, type=<ItemType.AUTHOR: 'author'>, version=7, objects_count=219, parent=0, position=2), Author(mugimugi_id='A1', id=1, prefix=<ElementPrefix.AUTHOR: 'A'>, english_name='(unknown)', japanese_name='不詳', romaji_name='', other_names=[], _type=<Type.TYPE: <ItemType.AUTHOR: 'author'>>, type=<ItemType.AUTHOR: 'author'>, version=6, objects_count=53660, parent=0, position=2), Author(mugimugi_id='A6878', id=6878, prefix=<ElementPrefix.AUTHOR: 'A'>, english_name='Yopashi Ayasa', japanese_name='よぱしあやさ', romaji_name='ヨパシアヤサ', other_names=[], _type=<Type.TYPE: <ItemType.AUTHOR: 'author'>>, type=<ItemType.AUTHOR: 'author'>, version=1, objects_count=1, parent=0, position=2), Author(mugimugi_id='A6879', id=6879, prefix=<ElementPrefix.AUTHOR: 'A'>, english_name='Eimu Yuu', japanese_name='影夢優', romaji_name='', other_names=[], _type=<Type.TYPE: <ItemType.AUTHOR: 'author'>>, type=<ItemType.AUTHOR: 'author'>, version=24, objects_count=75, parent=1581, position=2), Author(mugimugi_id='A6880', id=6880, prefix=<ElementPrefix.AUTHOR: 'A'>, english_name='Yuuki Alice', japanese_name='夕姫ありす', romaji_name='', other_names=[], _type=<Type.TYPE: <ItemType.AUTHOR: 'author'>>, type=<ItemType.AUTHOR: 'author'>, version=1, objects_count=67, parent=0, position=2), Author(mugimugi_id='A6881', id=6881, prefix=<ElementPrefix.AUTHOR: 'A'>, english_name='Morino Makoto', japanese_name='森野真琴', romaji_name='', other_names=[], _type=<Type.TYPE: <ItemType.AUTHOR: 'author'>>, type=<ItemType.AUTHOR: 'author'>, version=2, objects_count=1, parent=0, position=2), Author(mugimugi_id='A6882', id=6882, prefix=<ElementPrefix.AUTHOR: 'A'>, english_name='AKIRA.N', japanese_name='Akira.N', romaji_name='', other_names=[], _type=<Type.TYPE: <ItemType.AUTHOR: 'author'>>, type=<ItemType.AUTHOR: 'author'>, version=1, objects_count=1, parent=0, position=2), Author(mugimugi_id='A6883', id=6883, prefix=<ElementPrefix.AUTHOR: 'A'>, english_name='Yamino Yomiko', japanese_name='闇乃黄泉子', romaji_name='ヤミノヨミコ', other_names=[], _type=<Type.TYPE: <ItemType.AUTHOR: 'author'>>, type=<ItemType.AUTHOR: 'author'>, version=2, objects_count=6, parent=0, position=2), Author(mugimugi_id='A6884', id=6884, prefix=<ElementPrefix.AUTHOR: 'A'>, english_name='Oscar W Tachibanaana', japanese_name='オスカー・W・タチバナーナ', romaji_name='', other_names=[], _type=<Type.TYPE: <ItemType.AUTHOR: 'author'>>, type=<ItemType.AUTHOR: 'author'>, version=2, objects_count=1, parent=0, position=2), Author(mugimugi_id='A6885', id=6885, prefix=<ElementPrefix.AUTHOR: 'A'>, english_name='Takano Kata', japanese_name='TAKANO KATA', romaji_name='', other_names=[], _type=<Type.TYPE: <ItemType.AUTHOR: 'author'>>, type=<ItemType.AUTHOR: 'author'>, version=1, objects_count=2, parent=0, position=2), Parody(mugimugi_id='P27', id=27, prefix=<ElementPrefix.PARODY: 'P'>, english_name='Shinseiki Evangelion', japanese_name='新世紀エヴァンゲリオン', romaji_name='シンセイキエヴァンゲリオン', other_names=['Neon Genesis Evangelion', 'NGE'], _type=<Type.TYPE: <ItemType.PARODY: 'parody'>>, type=<ItemType.PARODY: 'parody'>, version=29, objects_count=5618, ratio=4), Parody(mugimugi_id='P14', id=14, prefix=<ElementPrefix.PARODY: 'P'>, english_name='Cardcaptor Sakura', japanese_name='カードキャプターさくら', romaji_name='', other_names=['CCS', 'CCさくら', 'Cardcaptors', 'Card Captor Sakura'], _type=<Type.TYPE: <ItemType.PARODY: 'parody'>>, type=<ItemType.PARODY: 'parody'>, version=19, objects_count=2127, ratio=1), Parody(mugimugi_id='P29', id=29, prefix=<ElementPrefix.PARODY: 'P'>, english_name='Bishoujo Senshi Sailor Moon', japanese_name='美少女戦士セーラームーン', romaji_name='ビショウジョセンシセーラームーン', other_names=['Sailor Moon', 'セーラームーン'], _type=<Type.TYPE: <ItemType.PARODY: 'parody'>>, type=<ItemType.PARODY: 'parody'>, version=58, objects_count=1547, ratio=1), Content(mugimugi_id='K49', id=49, prefix=<ElementPrefix.CONTENT: 'K'>, english_name='Masturbation', japanese_name='自慰・性器愛撫', romaji_name='', other_names=['オナニー', 'マスターベーション', '強制マスターベーション'], _type=<Type.TYPE: <ItemType.CONTENT: 'contents'>>, type=<ItemType.CONTENT: 'contents'>, version=3, objects_count=18186, ratio=2), Content(mugimugi_id='K15', id=15, prefix=<ElementPrefix.CONTENT: 'K'>, english_name='Loli', japanese_name='ロリ', romaji_name='', other_names=['lolicon', 'lolikon', 'rorikon', 'ロリコン'], _type=<Type.TYPE: <ItemType.CONTENT: 'contents'>>, type=<ItemType.CONTENT: 'contents'>, version=3, objects_count=75547, ratio=2), Content(mugimugi_id='K8', id=8, prefix=<ElementPrefix.CONTENT: 'K'>, english_name='Futanari', japanese_name='ふたなり', romaji_name='', other_names=[], _type=<Type.TYPE: <ItemType.CONTENT: 'contents'>>, type=<ItemType.CONTENT: 'contents'>, version=1, objects_count=16116, ratio=2), Content(mugimugi_id='K48', id=48, prefix=<ElementPrefix.CONTENT: 'K'>, english_name='Domination (Femdom)', japanese_name='女性支配・女王様・ドミナ', romaji_name='', other_names=[], _type=<Type.TYPE: <ItemType.CONTENT: 'contents'>>, type=<ItemType.CONTENT: 'contents'>, version=2, objects_count=7379, ratio=2), Content(mugimugi_id='K158', id=158, prefix=<ElementPrefix.CONTENT: 'K'>, english_name='Oral Sex', japanese_name='オーラル・セックス', romaji_name='', other_names=['口腔プレイ'], _type=<Type.TYPE: <ItemType.CONTENT: 'contents'>>, type=<ItemType.CONTENT: 'contents'>, version=2, objects_count=37578, ratio=2), Content(mugimugi_id='K201', id=201, prefix=<ElementPrefix.CONTENT: 'K'>, english_name='Plugsuit', japanese_name='プラグスーツ', romaji_name='', other_names=[], _type=<Type.TYPE: <ItemType.CONTENT: 'contents'>>, type=<ItemType.CONTENT: 'contents'>, version=2, objects_count=194, ratio=1), Content(mugimugi_id='K251', id=251, prefix=<ElementPrefix.CONTENT: 'K'>, english_name='Strap-on', japanese_name='ペニスバンド', romaji_name='', other_names=[], _type=<Type.TYPE: <ItemType.CONTENT: 'contents'>>, type=<ItemType.CONTENT: 'contents'>, version=1, objects_count=2924, ratio=0), Content(mugimugi_id='K9', id=9, prefix=<ElementPrefix.CONTENT: 'K'>, english_name='Breasts (Large)', japanese_name='巨乳', romaji_name='キョニュウ', other_names=[], _type=<Type.TYPE: <ItemType.CONTENT: 'contents'>>, type=<ItemType.CONTENT: 'contents'>, version=2, objects_count=61155, ratio=0), Content(mugimugi_id='K187', id=187, prefix=<ElementPrefix.CONTENT: 'K'>, english_name='Lesbian, Yuri', japanese_name='女性同性愛, レズ, 百合', romaji_name='', other_names=[\"Girl's Love\"], _type=<Type.TYPE: <ItemType.CONTENT: 'contents'>>, type=<ItemType.CONTENT: 'contents'>, version=4, objects_count=22757, ratio=0), Content(mugimugi_id='K601', id=601, prefix=<ElementPrefix.CONTENT: 'K'>, english_name='School Girl', japanese_name='女子生徒', romaji_name='', other_names=[], _type=<Type.TYPE: <ItemType.CONTENT: 'contents'>>, type=<ItemType.CONTENT: 'contents'>, version=3, objects_count=20436, ratio=0), Character(mugimugi_id='H284', id=284, prefix=<ElementPrefix.CHARACTER: 'H'>, english_name='Ikari Shinji', japanese_name='碇シンジ', romaji_name='イカリシンジ', other_names=[], _type=<Type.TYPE: <ItemType.CHARACTER: 'character'>>, type=<ItemType.CHARACTER: 'character'>, version=18, objects_count=2427, sex=1, age='', ratio=0), Character(mugimugi_id='H310', id=310, prefix=<ElementPrefix.CHARACTER: 'H'>, english_name='Ayanami Rei', japanese_name='綾波レイ', romaji_name='アヤナミレイ', other_names=[], _type=<Type.TYPE: <ItemType.CHARACTER: 'character'>>, type=<ItemType.CHARACTER: 'character'>, version=16, objects_count=1140, sex=2, age='14', ratio=0), Character(mugimugi_id='H161', id=161, prefix=<ElementPrefix.CHARACTER: 'H'>, english_name='Sohryu Asuka Langley', japanese_name='惣流・アスカ・ラングレー', romaji_name='ソウリュウアスカラングレー', other_names=['式波・アスカ・ラングレー', 'Shikinami Asuka Langley'], _type=<Type.TYPE: <ItemType.CHARACTER: 'character'>>, type=<ItemType.CHARACTER: 'character'>, version=16, objects_count=1593, sex=2, age='14', ratio=0), Character(mugimugi_id='H315', id=315, prefix=<ElementPrefix.CHARACTER: 'H'>, english_name='Akagi Ritsuko', japanese_name='赤木リツコ', romaji_name='アカギリツコ', other_names=[], _type=<Type.TYPE: <ItemType.CHARACTER: 'character'>>, type=<ItemType.CHARACTER: 'character'>, version=4, objects_count=279, sex=2, age='', ratio=0)]))\nBook(mugimugi_id='B1679364', id=1679364, prefix=<ElementPrefix.BOOK: 'B'>, english_name='Nenrei Fushou no Kinoe Kishi Danchou', japanese_name='年齢不詳近衛騎士団長', romaji_name='', other_names=[], version=1, match_ratio=None, release_date=datetime.date(2018, 2, 11), isbn='', pages_count=16, is_adult=True, is_anthology=False, is_copybook=False, magazine=0, language=3, info='', _links=Book.Linker(items=[Convention(mugimugi_id='N1', id=1, prefix=<ElementPrefix.CONVENTION: 'N'>, english_name='Unknown', japanese_name='不詳', romaji_name='', other_names=[], _type=<Type.TYPE: <ItemType.CONVENTION: 'convention'>>, type=<ItemType.CONVENTION: 'convention'>, version=2, objects_count=684020, date_start='', date_end='', _=0), Collection(mugimugi_id='O2', id=2, prefix=<ElementPrefix.COLLECTION: 'O'>, english_name='No Collections', japanese_name='シリーズでない', romaji_name='', other_names=[], _type=<Type.TYPE: <ItemType.COLLECTION: 'collections'>>, type=<ItemType.COLLECTION: 'collections'>, version=4, objects_count=1736639, _=0), Type(mugimugi_id='T1', id=1, prefix=<ElementPrefix.TYPE: 'T'>, english_name='Doujinshi', japanese_name='同人誌', romaji_name='', other_names=[], _type=<Type.TYPE: <ItemType.TYPE: 'type'>>, type=<ItemType.TYPE: 'type'>, version=1, objects_count=1350632, _=0), Circle(mugimugi_id='C107648', id=107648, prefix=<ElementPrefix.CIRCLE: 'C'>, english_name='MHP', japanese_name='MHP', romaji_name='', other_names=[], _type=<Type.TYPE: <ItemType.CIRCLE: 'circle'>>, type=<ItemType.CIRCLE: 'circle'>, version=2, objects_count=13, parent=0, position=2), Author(mugimugi_id='A17074', id=17074, prefix=<ElementPrefix.AUTHOR: 'A'>, english_name='HIKARI', japanese_name='HIKARI', romaji_name='', other_names=[], _type=<Type.TYPE: <ItemType.AUTHOR: 'author'>>, type=<ItemType.AUTHOR: 'author'>, version=5, objects_count=7, parent=0, position=2), Parody(mugimugi_id='P5081', id=5081, prefix=<ElementPrefix.PARODY: 'P'>, english_name='Millennium War Aigis', japanese_name='千年戦争アイギス', romaji_name='センネンセンソウアイギス', other_names=[], _type=<Type.TYPE: <ItemType.PARODY: 'parody'>>, type=<ItemType.PARODY: 'parody'>, version=239, objects_count=640, ratio=0), Genre(mugimugi_id='G227', id=227, prefix=<ElementPrefix.GENRE: 'G'>, english_name='For men', japanese_name='男性向け', romaji_name='', other_names=[], _type=<Type.TYPE: <ItemType.GENRE: 'genre'>>, type=<ItemType.GENRE: 'genre'>, version=1, objects_count=347746, ratio=0), Imprint(mugimugi_id='I2', id=2, prefix=<ElementPrefix.IMPRINT: 'I'>, english_name='No Imprint', japanese_name='レーベルなし', romaji_name='', other_names=[], _type=<Type.TYPE: <ItemType.IMPRINT: 'imprint'>>, type=<ItemType.IMPRINT: 'imprint'>, version=2, objects_count=874877, _=0), Publisher(mugimugi_id='L3', id=3, prefix=<ElementPrefix.PUBLISHER: 'L'>, english_name='No Publisher', japanese_name='出版社なし', romaji_name='', other_names=[], _type=<Type.TYPE: <ItemType.PUBLISHER: 'publisher'>>, type=<ItemType.PUBLISHER: 'publisher'>, version=2, objects_count=1517901, _=0), Content(mugimugi_id='K1', id=1, prefix=<ElementPrefix.CONTENT: 'K'>, english_name='Unknown', japanese_name='不詳', romaji_name='', other_names=[], _type=<Type.TYPE: <ItemType.CONTENT: 'contents'>>, type=<ItemType.CONTENT: 'contents'>, version=1, objects_count=1590668, ratio=0)]))\n"
     ]
    }
   ],
   "source": [
    "async with client as c:\n",
    "    async for e in client.book.search(\"不詳\", limit=10):\n",
    "        print(e)"
   ]
  }
 ]
}